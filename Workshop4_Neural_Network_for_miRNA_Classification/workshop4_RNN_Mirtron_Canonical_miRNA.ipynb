{
 "cells": [
  {
   "cell_type": "markdown",
   "metadata": {
    "id": "uy_Mkn9NwUZE"
   },
   "source": [
    "# Workshop 4: Neural Network for microRNA Classification\n",
    "\n",
    "* Mirtron\n",
    "* Dense Neural Network\n",
    "* Recurrent Neural Network\n",
    "* Covolutional Neural Network\n",
    "* Challenge: build a RNN for ECG Anomaly Detection"
   ]
  },
  {
   "cell_type": "code",
   "execution_count": 1,
   "metadata": {
    "colab": {
     "base_uri": "https://localhost:8080/"
    },
    "id": "gqy1LW9tbTcX",
    "outputId": "1c32b172-81f7-4caa-a9ce-f8969ee5401e"
   },
   "outputs": [],
   "source": [
    "# !pip3 install Bio\n",
    "# !pip3 install biopython "
   ]
  },
  {
   "cell_type": "code",
   "execution_count": 2,
   "metadata": {
    "id": "H-QPtD9rFVvQ"
   },
   "outputs": [
    {
     "name": "stderr",
     "output_type": "stream",
     "text": [
      "2022-07-12 23:56:18.413407: W tensorflow/stream_executor/platform/default/dso_loader.cc:64] Could not load dynamic library 'libcudart.so.11.0'; dlerror: libcudart.so.11.0: cannot open shared object file: No such file or directory\n",
      "2022-07-12 23:56:18.413434: I tensorflow/stream_executor/cuda/cudart_stub.cc:29] Ignore above cudart dlerror if you do not have a GPU set up on your machine.\n"
     ]
    }
   ],
   "source": [
    "import csv\n",
    "import os\n",
    "import pandas as pd\n",
    "from Bio import SeqIO, Seq\n",
    "from tensorflow import keras\n",
    "from tensorflow.keras.preprocessing.sequence import pad_sequences\n",
    "from tensorflow.keras.layers import Embedding, LSTM, Dense, Conv1D, Dropout, Bidirectional, InputLayer, Flatten, SimpleRNN\n",
    "from tensorflow.keras.preprocessing.text import Tokenizer\n",
    "from tensorflow.keras.models import Sequential\n",
    "from tensorflow.keras.optimizers import Adam\n",
    "import numpy as np \n",
    "import tensorflow as tf\n",
    "import random as python_random\n",
    "from tensorflow.keras.utils import normalize\n",
    "from sklearn.model_selection import train_test_split\n",
    "import matplotlib.pyplot as plt\n",
    "from sklearn.metrics import confusion_matrix, accuracy_score, precision_score, recall_score, f1_score, cohen_kappa_score, auc, roc_curve, matthews_corrcoef, precision_recall_curve"
   ]
  },
  {
   "cell_type": "code",
   "execution_count": 3,
   "metadata": {
    "id": "H6eH_chXafiE"
   },
   "outputs": [],
   "source": [
    "# To obtain reproducible result\n",
    "# The below is necessary for starting Numpy generated random numbers\n",
    "# in a well-defined initial state.\n",
    "np.random.seed(123)\n",
    "\n",
    "# The below is necessary for starting core Python generated random numbers\n",
    "# in a well-defined state.\n",
    "python_random.seed(123)\n",
    "\n",
    "# The below set_seed() will make random number generation\n",
    "# in the TensorFlow backend have a well-defined initial state.\n",
    "# For further details, see:\n",
    "# https://www.tensorflow.org/api_docs/python/tf/random/set_seed\n",
    "tf.random.set_seed(1234)"
   ]
  },
  {
   "cell_type": "markdown",
   "metadata": {
    "tags": []
   },
   "source": [
    "### helper functions"
   ]
  },
  {
   "cell_type": "code",
   "execution_count": 4,
   "metadata": {
    "id": "bnQjiYcML1nj"
   },
   "outputs": [],
   "source": [
    "def kmers_builder(sequences, ksize):\n",
    "    kmers = []\n",
    "    for seq in sequences:\n",
    "        n_kmer = len(seq) - ksize + 1\n",
    "        kmer = []\n",
    "        for i in range(n_kmer):\n",
    "            temp_kmer = seq[i:i + ksize]\n",
    "            kmer.append(temp_kmer)\n",
    "        kmers.append(kmer)\n",
    "    return kmers\n",
    "\n",
    "def one_hot_encoding(sequences, k_mer):\n",
    "    encoded_data = []\n",
    "    n = len(sequences)\n",
    "    l = len(sequences[0])\n",
    "    for i in range(n):\n",
    "      data = []\n",
    "      for k in range(l):\n",
    "        seq = sequences[i][k]\n",
    "        letter = [0 for _ in range(4**k_mer)]\n",
    "        if seq == 0:\n",
    "          data.append(letter)\n",
    "        else:    \n",
    "          index = seq-1\n",
    "          letter[index] = 1\n",
    "          data.append(letter)\n",
    "      encoded_data.append(data)\n",
    "    \n",
    "    return np.array(encoded_data)\n",
    "\n",
    "def label_encoding(labels):\n",
    "    encoded_label = []\n",
    "    n = len(labels)\n",
    "    for i in range(n):\n",
    "      label = labels.iloc[i]\n",
    "      letter = [0.0,0.0]\n",
    "      if label == 1:\n",
    "        letter[1] = 1.0\n",
    "      else:\n",
    "        letter[0] = 1.0\n",
    "\n",
    "      encoded_label.append(letter)\n",
    "    \n",
    "    return np.array(encoded_label)\n",
    "\n",
    "def label_decoding(encoded_labels):\n",
    "    decoded_label = []\n",
    "    for i in range(len(encoded_labels)):\n",
    "      decoded_label.append(encoded_labels[i][1])\n",
    "\n",
    "    decoded_label = np.array(decoded_label)\n",
    "    decoded_label = decoded_label.astype(\"float32\", copy = False)\n",
    "    return decoded_label\n",
    "\n",
    "def evaluating(model, testing_inputs, testing_labels):\n",
    "  predincting_labels = model.predict(testing_inputs)\n",
    "  round_test = label_decoding(testing_labels)\n",
    "  round_pre = np.round(label_decoding(predincting_labels))\n",
    "  # Confusion matrix\n",
    "  c = confusion_matrix(round_test, round_pre)\n",
    "\n",
    "  # Precision \n",
    "  p = precision_score(round_test, round_pre)\n",
    "\n",
    "  # Specificity\n",
    "  tn, fp, fn, tp = confusion_matrix(round_test, round_pre).ravel()\n",
    "  s =  tn / (tn+fp)\n",
    "\n",
    "  # AUC\n",
    "  fpr, tpr, _ = roc_curve(round_test, predincting_labels[:,1].ravel())\n",
    "  auc_score = auc(fpr, tpr)\n",
    "\n",
    "  model_precision, model_recall, _ = precision_recall_curve(round_test, predincting_labels[:,1].ravel())\n",
    "  pr_auc_score = auc(model_recall, model_precision)\n",
    "\n",
    "  # Recall\n",
    "  r = recall_score(round_test, round_pre)\n",
    "\n",
    "  # Accuracy\n",
    "  a = accuracy_score(round_test,round_pre)\n",
    "\n",
    "  # F1 score\n",
    "  f1 = f1_score(round_test,round_pre)\n",
    "\n",
    "  # MCC\n",
    "  mcc = matthews_corrcoef(round_test, round_pre)\n",
    "\n",
    "  # cohen kappa score\n",
    "  cks = cohen_kappa_score(round_test,round_pre)\n",
    "\n",
    "  result_dic = {\n",
    "      'Recall': r,\n",
    "      'Specificity': s,\n",
    "      'AUC': auc_score,\n",
    "      'F-1': f1,\n",
    "      'Matthews Corrcoef': mcc\n",
    "  }\n",
    "  return result_dic"
   ]
  },
  {
   "cell_type": "markdown",
   "metadata": {
    "tags": []
   },
   "source": [
    "## Mirtron Data Preprocessing\n",
    "\n",
    "What is MicroRNA:\n",
    "> from wiki: *MicroRNAs (miRNAs) are a class of non-coding RNAs that play important roles in regulating gene expression. The majority of miRNAs are transcribed from DNA sequences into primary miRNAs and processed into precursor miRNAs, and finally mature miRNAs.*\n",
    "\n",
    "What is Mirtron: \n",
    "> from wiki: *Mirtrons are a type of microRNAs that are located in the introns of the mRNA encoding host genes. These short hairpin introns formed via atypical miRNA biogenesis pathways. Mirtrons arise from the spliced-out introns and are known to function in gene expression.*\n",
    "\n",
    "data: https://github.com/rorbachg/Mirtrons/tree/master/Data"
   ]
  },
  {
   "cell_type": "code",
   "execution_count": 5,
   "metadata": {
    "id": "vUORvQmXVgMt",
    "tags": []
   },
   "outputs": [],
   "source": [
    "miRBase_df = pd.read_csv( \"data.csv\")\n",
    "putative_mirtron_df = pd.read_csv(\"testdata.csv\")"
   ]
  },
  {
   "cell_type": "code",
   "execution_count": 6,
   "metadata": {},
   "outputs": [
    {
     "data": {
      "text/html": [
       "<div>\n",
       "<style scoped>\n",
       "    .dataframe tbody tr th:only-of-type {\n",
       "        vertical-align: middle;\n",
       "    }\n",
       "\n",
       "    .dataframe tbody tr th {\n",
       "        vertical-align: top;\n",
       "    }\n",
       "\n",
       "    .dataframe thead th {\n",
       "        text-align: right;\n",
       "    }\n",
       "</style>\n",
       "<table border=\"1\" class=\"dataframe\">\n",
       "  <thead>\n",
       "    <tr style=\"text-align: right;\">\n",
       "      <th></th>\n",
       "      <th>Unnamed: 0</th>\n",
       "      <th>hairpin_name</th>\n",
       "      <th>hairpin_seq</th>\n",
       "      <th>dotbracket</th>\n",
       "      <th>fe</th>\n",
       "      <th>arm5p</th>\n",
       "      <th>mature5p_seq</th>\n",
       "      <th>arm3p</th>\n",
       "      <th>mature3p_seq</th>\n",
       "      <th>class</th>\n",
       "    </tr>\n",
       "  </thead>\n",
       "  <tbody>\n",
       "    <tr>\n",
       "      <th>0</th>\n",
       "      <td>1</td>\n",
       "      <td>hsa-let-7a-1</td>\n",
       "      <td>UGGGAUGAGGUAGUAGGUUGUAUAGUUUUAGGGUCACACCCACCAC...</td>\n",
       "      <td>(((((.(((((((((((((((((((((.....(((...((((.......</td>\n",
       "      <td>-34.2</td>\n",
       "      <td>hsa-let-7a-5p</td>\n",
       "      <td>UGAGGUAGUAGGUUGUAUAGUU</td>\n",
       "      <td>hsa-let-7a-3p</td>\n",
       "      <td>CUAUACAAUCUACUGUCUUUC</td>\n",
       "      <td>False</td>\n",
       "    </tr>\n",
       "    <tr>\n",
       "      <th>1</th>\n",
       "      <td>2</td>\n",
       "      <td>hsa-let-7a-2</td>\n",
       "      <td>AGGUUGAGGUAGUAGGUUGUAUAGUUUAGAAUUACAUCAAGGGAGA...</td>\n",
       "      <td>(((..(((.(((.(((((((((((((.........(((......))...</td>\n",
       "      <td>-25.2</td>\n",
       "      <td>hsa-let-7a-5p</td>\n",
       "      <td>UGAGGUAGUAGGUUGUAUAGUU</td>\n",
       "      <td>hsa-let-7a-2-3p</td>\n",
       "      <td>CUGUACAGCCUCCUAGCUUUCC</td>\n",
       "      <td>False</td>\n",
       "    </tr>\n",
       "    <tr>\n",
       "      <th>2</th>\n",
       "      <td>3</td>\n",
       "      <td>hsa-let-7a-3</td>\n",
       "      <td>GGGUGAGGUAGUAGGUUGUAUAGUUUGGGGCUCUGCCCUGCUAUGG...</td>\n",
       "      <td>(((.(((((((((((((((((((((((((((...)))))).........</td>\n",
       "      <td>-34.1</td>\n",
       "      <td>hsa-let-7a-5p</td>\n",
       "      <td>UGAGGUAGUAGGUUGUAUAGUU</td>\n",
       "      <td>hsa-let-7a-3p</td>\n",
       "      <td>CUAUACAAUCUACUGUCUUUC</td>\n",
       "      <td>False</td>\n",
       "    </tr>\n",
       "    <tr>\n",
       "      <th>3</th>\n",
       "      <td>4</td>\n",
       "      <td>hsa-let-7b</td>\n",
       "      <td>CGGGGUGAGGUAGUAGGUUGUGUGGUUUCAGGGCAGUGAUGUUGCC...</td>\n",
       "      <td>(((((.(((((((((((((((((((((((.((((((.....)))))...</td>\n",
       "      <td>-46.7</td>\n",
       "      <td>hsa-let-7b-5p</td>\n",
       "      <td>UGAGGUAGUAGGUUGUGUGGUU</td>\n",
       "      <td>hsa-let-7b-3p</td>\n",
       "      <td>CUAUACAACCUACUGCCUUCCC</td>\n",
       "      <td>False</td>\n",
       "    </tr>\n",
       "    <tr>\n",
       "      <th>4</th>\n",
       "      <td>5</td>\n",
       "      <td>hsa-let-7c</td>\n",
       "      <td>GCAUCCGGGUUGAGGUAGUAGGUUGUAUGGUUUAGAGUUACACCCU...</td>\n",
       "      <td>((.((((((..(((.(((.(((((((((((((..((.(..((...)...</td>\n",
       "      <td>-31.6</td>\n",
       "      <td>hsa-let-7c-5p</td>\n",
       "      <td>UGAGGUAGUAGGUUGUAUGGUU</td>\n",
       "      <td>hsa-let-7c-3p</td>\n",
       "      <td>CUGUACAACCUUCUAGCUUUCC</td>\n",
       "      <td>False</td>\n",
       "    </tr>\n",
       "  </tbody>\n",
       "</table>\n",
       "</div>"
      ],
      "text/plain": [
       "   Unnamed: 0  hairpin_name  \\\n",
       "0           1  hsa-let-7a-1   \n",
       "1           2  hsa-let-7a-2   \n",
       "2           3  hsa-let-7a-3   \n",
       "3           4    hsa-let-7b   \n",
       "4           5    hsa-let-7c   \n",
       "\n",
       "                                         hairpin_seq  \\\n",
       "0  UGGGAUGAGGUAGUAGGUUGUAUAGUUUUAGGGUCACACCCACCAC...   \n",
       "1  AGGUUGAGGUAGUAGGUUGUAUAGUUUAGAAUUACAUCAAGGGAGA...   \n",
       "2  GGGUGAGGUAGUAGGUUGUAUAGUUUGGGGCUCUGCCCUGCUAUGG...   \n",
       "3  CGGGGUGAGGUAGUAGGUUGUGUGGUUUCAGGGCAGUGAUGUUGCC...   \n",
       "4  GCAUCCGGGUUGAGGUAGUAGGUUGUAUGGUUUAGAGUUACACCCU...   \n",
       "\n",
       "                                          dotbracket    fe          arm5p  \\\n",
       "0  (((((.(((((((((((((((((((((.....(((...((((....... -34.2  hsa-let-7a-5p   \n",
       "1  (((..(((.(((.(((((((((((((.........(((......))... -25.2  hsa-let-7a-5p   \n",
       "2  (((.(((((((((((((((((((((((((((...))))))......... -34.1  hsa-let-7a-5p   \n",
       "3  (((((.(((((((((((((((((((((((.((((((.....)))))... -46.7  hsa-let-7b-5p   \n",
       "4  ((.((((((..(((.(((.(((((((((((((..((.(..((...)... -31.6  hsa-let-7c-5p   \n",
       "\n",
       "             mature5p_seq            arm3p            mature3p_seq  class  \n",
       "0  UGAGGUAGUAGGUUGUAUAGUU    hsa-let-7a-3p   CUAUACAAUCUACUGUCUUUC  False  \n",
       "1  UGAGGUAGUAGGUUGUAUAGUU  hsa-let-7a-2-3p  CUGUACAGCCUCCUAGCUUUCC  False  \n",
       "2  UGAGGUAGUAGGUUGUAUAGUU    hsa-let-7a-3p   CUAUACAAUCUACUGUCUUUC  False  \n",
       "3  UGAGGUAGUAGGUUGUGUGGUU    hsa-let-7b-3p  CUAUACAACCUACUGCCUUCCC  False  \n",
       "4  UGAGGUAGUAGGUUGUAUGGUU    hsa-let-7c-3p  CUGUACAACCUUCUAGCUUUCC  False  "
      ]
     },
     "execution_count": 6,
     "metadata": {},
     "output_type": "execute_result"
    }
   ],
   "source": [
    "miRBase_df.head()"
   ]
  },
  {
   "cell_type": "code",
   "execution_count": 7,
   "metadata": {
    "id": "LkvHxYQSV8AR"
   },
   "outputs": [],
   "source": [
    "mirtron_index = []\n",
    "canonical_miRNA_index = []\n",
    "for i in range(len(miRBase_df)):\n",
    "  if miRBase_df.iloc[i][\"class\"] == False:\n",
    "    canonical_miRNA_index.append(i)\n",
    "  else:\n",
    "    mirtron_index.append(i)"
   ]
  },
  {
   "cell_type": "code",
   "execution_count": 8,
   "metadata": {
    "id": "MEJa89oPXpws"
   },
   "outputs": [],
   "source": [
    "canonical_miRNA_df = miRBase_df.iloc[canonical_miRNA_index]\n",
    "mirtron_df = miRBase_df.iloc[mirtron_index]"
   ]
  },
  {
   "cell_type": "code",
   "execution_count": 9,
   "metadata": {
    "id": "-jrmg-KOmNOK"
   },
   "outputs": [],
   "source": [
    "transcibed_seq_list = []\n",
    "\n",
    "for i in range(len(putative_mirtron_df)):\n",
    "  seq = putative_mirtron_df.iloc[i][\"hairpin_seq\"]\n",
    "  transcibed_seq = Seq.transcribe(seq)\n",
    "  transcibed_seq_list.append(transcibed_seq)\n",
    "\n",
    "putative_mirtron_df[\"hairpin_seq\"] = transcibed_seq_list"
   ]
  },
  {
   "cell_type": "code",
   "execution_count": 10,
   "metadata": {
    "id": "vPfRmNr1LSxv"
   },
   "outputs": [],
   "source": [
    "#For sequences contain mirtron set the column 'is_mirtron' to 1\n",
    "canonical_miRNA_df = canonical_miRNA_df.assign(is_mirtron = 0)\n",
    "mirtron_df = mirtron_df.assign(is_mirtron = 1)\n",
    "putative_mirtron_df = putative_mirtron_df.assign(is_mirtron = 1)"
   ]
  },
  {
   "cell_type": "markdown",
   "metadata": {
    "tags": []
   },
   "source": [
    "## inspect the differences between two classes"
   ]
  },
  {
   "cell_type": "code",
   "execution_count": 11,
   "metadata": {},
   "outputs": [
    {
     "name": "stdout",
     "output_type": "stream",
     "text": [
      "minimum free energy for mirtrons :\n"
     ]
    },
    {
     "data": {
      "text/plain": [
       "-28.646522781774582"
      ]
     },
     "execution_count": 11,
     "metadata": {},
     "output_type": "execute_result"
    }
   ],
   "source": [
    "print(\"minimum free energy for mirtrons :\")\n",
    "(putative_mirtron_df['fe'].sum() + mirtron_df['fe'].sum())/(len(putative_mirtron_df)+len(mirtron_df))"
   ]
  },
  {
   "cell_type": "code",
   "execution_count": 12,
   "metadata": {
    "tags": []
   },
   "outputs": [
    {
     "name": "stdout",
     "output_type": "stream",
     "text": [
      "minimum free energy for canonical miRNAs :\n"
     ]
    },
    {
     "data": {
      "text/plain": [
       "-41.705728429985854"
      ]
     },
     "execution_count": 12,
     "metadata": {},
     "output_type": "execute_result"
    }
   ],
   "source": [
    "print(\"minimum free energy for canonical miRNAs :\")\n",
    "canonical_miRNA_df['fe'].mean()"
   ]
  },
  {
   "cell_type": "code",
   "execution_count": 13,
   "metadata": {
    "colab": {
     "base_uri": "https://localhost:8080/"
    },
    "id": "Oo9l4myNYsGt",
    "outputId": "79f3d705-d0f3-4a93-95b8-29ea66b1d049"
   },
   "outputs": [
    {
     "name": "stdout",
     "output_type": "stream",
     "text": [
      "average hairpin sequence length of canonical miRNA 84.22347949080623\n"
     ]
    }
   ],
   "source": [
    "n = len(canonical_miRNA_df)\n",
    "total_length = 0\n",
    "for i in range(n):\n",
    "  total_length += len(canonical_miRNA_df.iloc[i][\"hairpin_seq\"])\n",
    "\n",
    "print(\"average hairpin sequence length of canonical miRNA\", total_length/n)"
   ]
  },
  {
   "cell_type": "code",
   "execution_count": 14,
   "metadata": {
    "colab": {
     "base_uri": "https://localhost:8080/"
    },
    "id": "O1fsoai_Zl6C",
    "outputId": "e8f67821-1ce1-4b15-f33c-570a87c917cb"
   },
   "outputs": [
    {
     "name": "stdout",
     "output_type": "stream",
     "text": [
      "average hairpin sequence length of mirtron 70.83333333333333\n"
     ]
    }
   ],
   "source": [
    "n = len(mirtron_df)\n",
    "total_length = 0\n",
    "for i in range(n):\n",
    "  total_length += len(mirtron_df.iloc[i][\"hairpin_seq\"])\n",
    "\n",
    "print(\"average hairpin sequence length of mirtron\", total_length/n)"
   ]
  },
  {
   "cell_type": "markdown",
   "metadata": {},
   "source": [
    "## Support Vector Machine"
   ]
  },
  {
   "cell_type": "code",
   "execution_count": 37,
   "metadata": {},
   "outputs": [],
   "source": [
    "from sklearn import svm\n",
    "\n",
    "df = pd.concat((mirtron_df,putative_mirtron_df),ignore_index=True)\n",
    "df = pd.concat((df,canonical_miRNA_df), ignore_index=True)\n",
    "\n",
    "# create a new column which store the length of the hairpin sequence\n",
    "df['hairpin_seq_len'] = df['hairpin_seq'].str.len()"
   ]
  },
  {
   "cell_type": "code",
   "execution_count": 38,
   "metadata": {},
   "outputs": [],
   "source": [
    "# shuffle the dataset\n",
    "df = df.sample(frac=1).reset_index(drop=True)"
   ]
  },
  {
   "cell_type": "code",
   "execution_count": 39,
   "metadata": {},
   "outputs": [],
   "source": [
    "X = df[['fe','hairpin_seq_len']].to_numpy()\n",
    "y = df['is_mirtron'].to_numpy()\n",
    "\n",
    "train_test_ratio = 0.9\n",
    "\n",
    "X_train = X[:int(len(X)*train_test_ratio)]\n",
    "y_train = y[:int(len(y)*train_test_ratio)]\n",
    "X_test = X[:int(len(X)*train_test_ratio)]\n",
    "y_test = y[:int(len(y)*train_test_ratio)]"
   ]
  },
  {
   "cell_type": "code",
   "execution_count": 40,
   "metadata": {},
   "outputs": [
    {
     "data": {
      "text/plain": [
       "<matplotlib.collections.PathCollection at 0x154622a3a790>"
      ]
     },
     "execution_count": 40,
     "metadata": {},
     "output_type": "execute_result"
    },
    {
     "data": {
      "image/png": "[encoded data removed]",
      "text/plain": [
       "<Figure size 576x576 with 1 Axes>"
      ]
     },
     "metadata": {
      "needs_background": "light"
     },
     "output_type": "display_data"
    }
   ],
   "source": [
    "plt.figure(figsize=(8,8))\n",
    "plt.scatter(X_train[:, 0], X_train[:, 1], c=y_train[:], s=30, alpha=0.5,cmap=plt.cm.Paired)"
   ]
  },
  {
   "cell_type": "markdown",
   "metadata": {},
   "source": [
    "After visual inspection, we can find it is difficult to seperate two clusters using a SVC with linear kernel.  \n",
    "\n",
    "For demonstration purpose, we are going to use the first 10 examples in our dataset to train a support vector machine"
   ]
  },
  {
   "cell_type": "code",
   "execution_count": 48,
   "metadata": {},
   "outputs": [
    {
     "data": {
      "text/plain": [
       "<matplotlib.collections.PathCollection at 0x1546c0907f40>"
      ]
     },
     "execution_count": 48,
     "metadata": {},
     "output_type": "execute_result"
    },
    {
     "data": {
      "image/png": "[encoded data removed]",
      "text/plain": [
       "<Figure size 576x576 with 1 Axes>"
      ]
     },
     "metadata": {
      "needs_background": "light"
     },
     "output_type": "display_data"
    }
   ],
   "source": [
    "plt.figure(figsize=(8,8))\n",
    "plt.scatter(X_train[:10, 0], X_train[:10, 1], c=y_train[:10], s=30, alpha=0.5,cmap=plt.cm.Paired)"
   ]
  },
  {
   "cell_type": "code",
   "execution_count": 49,
   "metadata": {},
   "outputs": [
    {
     "data": {
      "text/html": [
       "<style>#sk-container-id-3 {color: black;background-color: white;}#sk-container-id-3 pre{padding: 0;}#sk-container-id-3 div.sk-toggleable {background-color: white;}#sk-container-id-3 label.sk-toggleable__label {cursor: pointer;display: block;width: 100%;margin-bottom: 0;padding: 0.3em;box-sizing: border-box;text-align: center;}#sk-container-id-3 label.sk-toggleable__label-arrow:before {content: \"▸\";float: left;margin-right: 0.25em;color: #696969;}#sk-container-id-3 label.sk-toggleable__label-arrow:hover:before {color: black;}#sk-container-id-3 div.sk-estimator:hover label.sk-toggleable__label-arrow:before {color: black;}#sk-container-id-3 div.sk-toggleable__content {max-height: 0;max-width: 0;overflow: hidden;text-align: left;background-color: #f0f8ff;}#sk-container-id-3 div.sk-toggleable__content pre {margin: 0.2em;color: black;border-radius: 0.25em;background-color: #f0f8ff;}#sk-container-id-3 input.sk-toggleable__control:checked~div.sk-toggleable__content {max-height: 200px;max-width: 100%;overflow: auto;}#sk-container-id-3 input.sk-toggleable__control:checked~label.sk-toggleable__label-arrow:before {content: \"▾\";}#sk-container-id-3 div.sk-estimator input.sk-toggleable__control:checked~label.sk-toggleable__label {background-color: #d4ebff;}#sk-container-id-3 div.sk-label input.sk-toggleable__control:checked~label.sk-toggleable__label {background-color: #d4ebff;}#sk-container-id-3 input.sk-hidden--visually {border: 0;clip: rect(1px 1px 1px 1px);clip: rect(1px, 1px, 1px, 1px);height: 1px;margin: -1px;overflow: hidden;padding: 0;position: absolute;width: 1px;}#sk-container-id-3 div.sk-estimator {font-family: monospace;background-color: #f0f8ff;border: 1px dotted black;border-radius: 0.25em;box-sizing: border-box;margin-bottom: 0.5em;}#sk-container-id-3 div.sk-estimator:hover {background-color: #d4ebff;}#sk-container-id-3 div.sk-parallel-item::after {content: \"\";width: 100%;border-bottom: 1px solid gray;flex-grow: 1;}#sk-container-id-3 div.sk-label:hover label.sk-toggleable__label {background-color: #d4ebff;}#sk-container-id-3 div.sk-serial::before {content: \"\";position: absolute;border-left: 1px solid gray;box-sizing: border-box;top: 0;bottom: 0;left: 50%;z-index: 0;}#sk-container-id-3 div.sk-serial {display: flex;flex-direction: column;align-items: center;background-color: white;padding-right: 0.2em;padding-left: 0.2em;position: relative;}#sk-container-id-3 div.sk-item {position: relative;z-index: 1;}#sk-container-id-3 div.sk-parallel {display: flex;align-items: stretch;justify-content: center;background-color: white;position: relative;}#sk-container-id-3 div.sk-item::before, #sk-container-id-3 div.sk-parallel-item::before {content: \"\";position: absolute;border-left: 1px solid gray;box-sizing: border-box;top: 0;bottom: 0;left: 50%;z-index: -1;}#sk-container-id-3 div.sk-parallel-item {display: flex;flex-direction: column;z-index: 1;position: relative;background-color: white;}#sk-container-id-3 div.sk-parallel-item:first-child::after {align-self: flex-end;width: 50%;}#sk-container-id-3 div.sk-parallel-item:last-child::after {align-self: flex-start;width: 50%;}#sk-container-id-3 div.sk-parallel-item:only-child::after {width: 0;}#sk-container-id-3 div.sk-dashed-wrapped {border: 1px dashed gray;margin: 0 0.4em 0.5em 0.4em;box-sizing: border-box;padding-bottom: 0.4em;background-color: white;}#sk-container-id-3 div.sk-label label {font-family: monospace;font-weight: bold;display: inline-block;line-height: 1.2em;}#sk-container-id-3 div.sk-label-container {text-align: center;}#sk-container-id-3 div.sk-container {/* jupyter's `normalize.less` sets `[hidden] { display: none; }` but bootstrap.min.css set `[hidden] { display: none !important; }` so we also need the `!important` here to be able to override the default hidden behavior on the sphinx rendered scikit-learn.org. See: https://github.com/scikit-learn/scikit-learn/issues/21755 */display: inline-block !important;position: relative;}#sk-container-id-3 div.sk-text-repr-fallback {display: none;}</style><div id=\"sk-container-id-3\" class=\"sk-top-container\"><div class=\"sk-text-repr-fallback\"><pre>SVC(kernel=&#x27;linear&#x27;)</pre><b>In a Jupyter environment, please rerun this cell to show the HTML representation or trust the notebook. <br />On GitHub, the HTML representation is unable to render, please try loading this page with nbviewer.org.</b></div><div class=\"sk-container\" hidden><div class=\"sk-item\"><div class=\"sk-estimator sk-toggleable\"><input class=\"sk-toggleable__control sk-hidden--visually\" id=\"sk-estimator-id-3\" type=\"checkbox\" checked><label for=\"sk-estimator-id-3\" class=\"sk-toggleable__label sk-toggleable__label-arrow\">SVC</label><div class=\"sk-toggleable__content\"><pre>SVC(kernel=&#x27;linear&#x27;)</pre></div></div></div></div></div>"
      ],
      "text/plain": [
       "SVC(kernel='linear')"
      ]
     },
     "execution_count": 49,
     "metadata": {},
     "output_type": "execute_result"
    }
   ],
   "source": [
    "clf = svm.SVC(kernel=\"linear\")\n",
    "clf.fit(X_train[:10], y_train[:10])"
   ]
  },
  {
   "cell_type": "code",
   "execution_count": 50,
   "metadata": {},
   "outputs": [
    {
     "data": {
      "image/png": "[encoded data removed]",
      "text/plain": [
       "<Figure size 576x576 with 1 Axes>"
      ]
     },
     "metadata": {
      "needs_background": "light"
     },
     "output_type": "display_data"
    }
   ],
   "source": [
    "from sklearn.inspection import DecisionBoundaryDisplay\n",
    "\n",
    "plt.figure(figsize=(8,8))\n",
    "plt.scatter(X_train[:10, 0], X_train[:10, 1], c=y_train[:10], s=30, alpha=0.5,cmap=plt.cm.Paired)\n",
    "\n",
    "ax = plt.gca()\n",
    "DecisionBoundaryDisplay.from_estimator(\n",
    "    clf,\n",
    "    X,\n",
    "    plot_method=\"contour\",\n",
    "    levels=[-1, 0, 1],\n",
    "    alpha=0.5,\n",
    "    linestyles=[\"--\", \"-\", \"--\"],\n",
    "    ax=ax,\n",
    ")\n",
    "# plot support vectors\n",
    "ax.scatter(\n",
    "    clf.support_vectors_[:3, 0],\n",
    "    clf.support_vectors_[:3, 1],\n",
    "    s=100,\n",
    "    linewidth=1,\n",
    "    facecolors=\"none\",\n",
    "    edgecolors=\"k\",\n",
    ")\n",
    "plt.show()"
   ]
  },
  {
   "cell_type": "code",
   "execution_count": 21,
   "metadata": {},
   "outputs": [],
   "source": [
    "pred = np.round(clf.predict(X_test))\n",
    "\n",
    "tn, fp, fn, tp = confusion_matrix(y_test, pred).ravel()\n",
    "\n",
    "# Sensitivity\n",
    "sensitivity = tp / (tp + fn)\n",
    "\n",
    "# Specificity\n",
    "\n",
    "specificity =  tn / (tn + fp)\n",
    "\n",
    "# AUC\n",
    "fpr, tpr, _ = roc_curve(y_test, pred)\n",
    "auc_score = auc(fpr, tpr)\n",
    "\n",
    "# F1 score\n",
    "f1 = f1_score(y_test, pred)\n",
    "\n",
    "# MCC\n",
    "mcc = matthews_corrcoef(y_test, pred)"
   ]
  },
  {
   "cell_type": "code",
   "execution_count": 22,
   "metadata": {},
   "outputs": [
    {
     "name": "stdout",
     "output_type": "stream",
     "text": [
      "Recall:  0.8655913978494624 \n",
      "Specificity:  0.7417840375586855 \n",
      "AUC:  0.803687717704074 \n",
      "F-1:  0.7497089639115251 \n",
      "Matthews Corrcoef: 0.5862042979997333\n"
     ]
    }
   ],
   "source": [
    "print(\n",
    "'Recall: ', sensitivity,\n",
    "'\\nSpecificity: ', specificity,\n",
    "'\\nAUC: ', auc_score,\n",
    "'\\nF-1: ', f1,\n",
    "'\\nMatthews Corrcoef:', mcc\n",
    ")"
   ]
  },
  {
   "cell_type": "markdown",
   "metadata": {},
   "source": [
    "## Prepare the data for NN"
   ]
  },
  {
   "cell_type": "code",
   "execution_count": 23,
   "metadata": {
    "colab": {
     "base_uri": "https://localhost:8080/"
    },
    "id": "ovpfDXuy786T",
    "outputId": "7bc96bc6-2699-407f-90e3-47429eae4504"
   },
   "outputs": [],
   "source": [
    "# df = mirtron_df.append(putative_mirtron_df,ignore_index=True)\n",
    "# df = df.append(canonical_miRNA_df, ignore_index=True)\n",
    "\n",
    "k_mer = 2\n",
    "max_len = 80\n",
    "miRNA_seq = df[\"hairpin_seq\"]\n",
    "miRNA_kmer = kmers_builder(miRNA_seq, k_mer)\n",
    "\n",
    "tokenizer = Tokenizer()\n",
    "tokenizer.fit_on_texts(miRNA_kmer)\n",
    "\n",
    "vocab_size = len(tokenizer.word_index)\n",
    "\n",
    "training_canonical_miRNA_df = canonical_miRNA_df.sample(507, random_state=np.random.RandomState(42))\n",
    "testing_canonical_miRNA_df = canonical_miRNA_df.drop(training_canonical_miRNA_df.index)\n",
    "\n",
    "training_df = pd.concat((mirtron_df,training_canonical_miRNA_df), ignore_index=True)\n",
    "testing_df = pd.concat((putative_mirtron_df,testing_canonical_miRNA_df), ignore_index=True)\n",
    "\n",
    "training_df = training_df.reindex(np.random.permutation(training_df.index)) # shuffle the dataframe based on the index\n",
    "testing_df = testing_df.reindex(np.random.permutation(testing_df.index))\n",
    "\n",
    "training_sequences = training_df[\"hairpin_seq\"]\n",
    "training_labels = training_df[\"is_mirtron\"]\n",
    "training_labels = label_encoding(training_labels)\n",
    "\n",
    "testing_sequences = testing_df[\"hairpin_seq\"]\n",
    "testing_labels = testing_df[\"is_mirtron\"]\n",
    "testing_labels = label_encoding(testing_labels)\n",
    "\n",
    "# transfer the sequences into k-mer representation\n",
    "training_sequences = kmers_builder(training_sequences,k_mer)\n",
    "testing_sequences = kmers_builder(testing_sequences,k_mer)\n",
    "\n",
    "# transfer the k-mer sequences into vetor\n",
    "training_sequences = tokenizer.texts_to_sequences(training_sequences)\n",
    "testing_sequences = tokenizer.texts_to_sequences(testing_sequences)\n",
    "\n",
    "# different padded will affect the final result\n",
    "training_sequences = one_hot_encoding(pad_sequences(training_sequences, maxlen=max_len, padding='pre',truncating='pre'), k_mer) \n",
    "testing_sequences = one_hot_encoding(pad_sequences(testing_sequences, maxlen=max_len, padding='pre',truncating='pre'), k_mer)\n",
    "\n",
    "early_stop = tf.keras.callbacks.EarlyStopping(monitor='val_loss', patience=10, restore_best_weights=True)\n",
    "num_epochs = 100   "
   ]
  },
  {
   "cell_type": "markdown",
   "metadata": {
    "tags": []
   },
   "source": [
    "## Dense Neural Network"
   ]
  },
  {
   "cell_type": "code",
   "execution_count": 24,
   "metadata": {},
   "outputs": [
    {
     "name": "stderr",
     "output_type": "stream",
     "text": [
      "2022-07-12 23:56:29.109435: E tensorflow/stream_executor/cuda/cuda_driver.cc:271] failed call to cuInit: CUDA_ERROR_NO_DEVICE: no CUDA-capable device is detected\n",
      "2022-07-12 23:56:29.109546: I tensorflow/stream_executor/cuda/cuda_diagnostics.cc:156] kernel driver does not appear to be running on this host (gadi-cpu-clx-1535.gadi.nci.org.au): /proc/driver/nvidia/version does not exist\n",
      "2022-07-12 23:56:29.167156: I tensorflow/core/platform/cpu_feature_guard.cc:151] This TensorFlow binary is optimized with oneAPI Deep Neural Network Library (oneDNN) to use the following CPU instructions in performance-critical operations:  AVX2 AVX512F FMA\n",
      "To enable them in other operations, rebuild TensorFlow with the appropriate compiler flags.\n"
     ]
    },
    {
     "name": "stdout",
     "output_type": "stream",
     "text": [
      "Epoch 1/100\n",
      "19/19 [==============================] - 2s 11ms/step - loss: 0.5382 - val_loss: 0.3800\n",
      "Epoch 2/100\n",
      "19/19 [==============================] - 0s 5ms/step - loss: 0.3219 - val_loss: 0.3105\n",
      "Epoch 3/100\n",
      "19/19 [==============================] - 0s 4ms/step - loss: 0.2347 - val_loss: 0.2775\n",
      "Epoch 4/100\n",
      "19/19 [==============================] - 0s 4ms/step - loss: 0.1710 - val_loss: 0.2429\n",
      "Epoch 5/100\n",
      "19/19 [==============================] - 0s 3ms/step - loss: 0.1131 - val_loss: 0.2224\n",
      "Epoch 6/100\n",
      "19/19 [==============================] - 0s 3ms/step - loss: 0.0696 - val_loss: 0.2160\n",
      "Epoch 7/100\n",
      "19/19 [==============================] - 0s 4ms/step - loss: 0.0409 - val_loss: 0.2213\n",
      "Epoch 8/100\n",
      "19/19 [==============================] - 0s 3ms/step - loss: 0.0245 - val_loss: 0.2296\n",
      "Epoch 9/100\n",
      "19/19 [==============================] - 0s 3ms/step - loss: 0.0162 - val_loss: 0.2358\n",
      "Epoch 10/100\n",
      "19/19 [==============================] - 0s 4ms/step - loss: 0.0202 - val_loss: 0.2422\n",
      "Epoch 11/100\n",
      "19/19 [==============================] - 0s 4ms/step - loss: 0.0173 - val_loss: 0.2517\n",
      "Epoch 12/100\n",
      "19/19 [==============================] - 0s 3ms/step - loss: 0.0140 - val_loss: 0.2559\n",
      "Epoch 13/100\n",
      "19/19 [==============================] - 0s 4ms/step - loss: 0.0123 - val_loss: 0.2620\n",
      "Epoch 14/100\n",
      "19/19 [==============================] - 0s 4ms/step - loss: 0.0097 - val_loss: 0.2663\n",
      "Epoch 15/100\n",
      "19/19 [==============================] - 0s 4ms/step - loss: 0.0084 - val_loss: 0.2716\n",
      "Epoch 16/100\n",
      "19/19 [==============================] - 0s 4ms/step - loss: 0.0071 - val_loss: 0.2776\n",
      "======================================================\n"
     ]
    },
    {
     "data": {
      "text/plain": [
       "{'Recall': 0.8805970149253731,\n",
       " 'Specificity': 0.96,\n",
       " 'AUC': 0.98318407960199,\n",
       " 'F-1': 0.917098445595855,\n",
       " 'Matthews Corrcoef': 0.843117551361831}"
      ]
     },
     "execution_count": 24,
     "metadata": {},
     "output_type": "execute_result"
    }
   ],
   "source": [
    "def dnn_model(max_len, vocab_size):\n",
    "    model = Sequential([\n",
    "      InputLayer(input_shape=(max_len,vocab_size)),\n",
    "      Flatten(),\n",
    "      Dense(32,activation='relu'),\n",
    "      Dense(16,activation='relu'),\n",
    "      Dense(2, activation='softmax')\n",
    "    ])  \n",
    "    return model\n",
    "\n",
    "model = dnn_model(max_len, vocab_size)\n",
    "model.compile(loss='categorical_crossentropy',optimizer='adam')\n",
    "model.fit(training_sequences, training_labels, epochs=num_epochs, verbose=1, validation_split = 0.2, callbacks = [early_stop])\n",
    "\n",
    "print(\"======================================================\")\n",
    "\n",
    "evaluating(model, testing_sequences, testing_labels)       "
   ]
  },
  {
   "cell_type": "markdown",
   "metadata": {},
   "source": [
    "Dropout is a regularization technique for reducing overfitting in neural networks by preventing complex co-adaptations on training data. By adding dropout, our model can better generalize on real-word data."
   ]
  },
  {
   "cell_type": "code",
   "execution_count": 25,
   "metadata": {},
   "outputs": [
    {
     "name": "stdout",
     "output_type": "stream",
     "text": [
      "Epoch 1/100\n",
      "19/19 [==============================] - 0s 9ms/step - loss: 0.6502 - val_loss: 0.4652\n",
      "Epoch 2/100\n",
      "19/19 [==============================] - 0s 4ms/step - loss: 0.4606 - val_loss: 0.3595\n",
      "Epoch 3/100\n",
      "19/19 [==============================] - 0s 4ms/step - loss: 0.3463 - val_loss: 0.2792\n",
      "Epoch 4/100\n",
      "19/19 [==============================] - 0s 4ms/step - loss: 0.2736 - val_loss: 0.2334\n",
      "Epoch 5/100\n",
      "19/19 [==============================] - 0s 4ms/step - loss: 0.2270 - val_loss: 0.2131\n",
      "Epoch 6/100\n",
      "19/19 [==============================] - 0s 4ms/step - loss: 0.1670 - val_loss: 0.2037\n",
      "Epoch 7/100\n",
      "19/19 [==============================] - 0s 4ms/step - loss: 0.1398 - val_loss: 0.2048\n",
      "Epoch 8/100\n",
      "19/19 [==============================] - 0s 4ms/step - loss: 0.1085 - val_loss: 0.2091\n",
      "Epoch 9/100\n",
      "19/19 [==============================] - 0s 4ms/step - loss: 0.0860 - val_loss: 0.2139\n",
      "Epoch 10/100\n",
      "19/19 [==============================] - 0s 4ms/step - loss: 0.0759 - val_loss: 0.2250\n",
      "Epoch 11/100\n",
      "19/19 [==============================] - 0s 4ms/step - loss: 0.0590 - val_loss: 0.2353\n",
      "Epoch 12/100\n",
      "19/19 [==============================] - 0s 3ms/step - loss: 0.0534 - val_loss: 0.2501\n",
      "Epoch 13/100\n",
      "19/19 [==============================] - 0s 4ms/step - loss: 0.0408 - val_loss: 0.2634\n",
      "Epoch 14/100\n",
      "19/19 [==============================] - 0s 4ms/step - loss: 0.0508 - val_loss: 0.2695\n",
      "Epoch 15/100\n",
      "19/19 [==============================] - 0s 4ms/step - loss: 0.0462 - val_loss: 0.2784\n",
      "Epoch 16/100\n",
      "19/19 [==============================] - 0s 4ms/step - loss: 0.0411 - val_loss: 0.2913\n",
      "======================================================\n"
     ]
    },
    {
     "data": {
      "text/plain": [
       "{'Recall': 0.9154228855721394,\n",
       " 'Specificity': 0.96,\n",
       " 'AUC': 0.9884079601990049,\n",
       " 'F-1': 0.9363867684478373,\n",
       " 'Matthews Corrcoef': 0.8762079010210821}"
      ]
     },
     "execution_count": 25,
     "metadata": {},
     "output_type": "execute_result"
    }
   ],
   "source": [
    "def dnn_model(max_len, vocab_size):\n",
    "    model = Sequential([\n",
    "      InputLayer(input_shape=(max_len,vocab_size)),\n",
    "      Flatten(),\n",
    "      Dense(32,activation='relu'),\n",
    "      Dropout(0.5),\n",
    "      Dense(16,activation='relu'),\n",
    "      Dropout(0.2),\n",
    "      Dense(2, activation='softmax')\n",
    "    ])  \n",
    "    return model\n",
    "\n",
    "model = dnn_model(max_len, vocab_size)\n",
    "model.compile(loss='categorical_crossentropy',optimizer='adam')\n",
    "model.fit(training_sequences, training_labels, epochs=num_epochs, verbose=1, validation_split = 0.2, callbacks = [early_stop])\n",
    "\n",
    "print(\"======================================================\")\n",
    "\n",
    "evaluating(model, testing_sequences, testing_labels)     "
   ]
  },
  {
   "cell_type": "markdown",
   "metadata": {
    "tags": []
   },
   "source": [
    "## Recurrent Neural Network"
   ]
  },
  {
   "cell_type": "code",
   "execution_count": 26,
   "metadata": {},
   "outputs": [
    {
     "name": "stdout",
     "output_type": "stream",
     "text": [
      "Epoch 1/100\n",
      "19/19 [==============================] - 3s 56ms/step - loss: 0.7292 - val_loss: 0.6542\n",
      "Epoch 2/100\n",
      "19/19 [==============================] - 1s 44ms/step - loss: 0.6288 - val_loss: 0.5534\n",
      "Epoch 3/100\n",
      "19/19 [==============================] - 1s 44ms/step - loss: 0.5357 - val_loss: 0.3951\n",
      "Epoch 4/100\n",
      "19/19 [==============================] - 1s 44ms/step - loss: 0.4202 - val_loss: 0.3041\n",
      "Epoch 5/100\n",
      "19/19 [==============================] - 1s 47ms/step - loss: 0.3289 - val_loss: 0.3483\n",
      "Epoch 6/100\n",
      "19/19 [==============================] - 1s 43ms/step - loss: 0.3575 - val_loss: 0.3090\n",
      "Epoch 7/100\n",
      "19/19 [==============================] - 1s 44ms/step - loss: 0.3107 - val_loss: 0.2693\n",
      "Epoch 8/100\n",
      "19/19 [==============================] - 1s 45ms/step - loss: 0.2775 - val_loss: 0.2431\n",
      "Epoch 9/100\n",
      "19/19 [==============================] - 1s 44ms/step - loss: 0.2558 - val_loss: 0.2684\n",
      "Epoch 10/100\n",
      "19/19 [==============================] - 1s 43ms/step - loss: 0.2490 - val_loss: 0.2522\n",
      "Epoch 11/100\n",
      "19/19 [==============================] - 1s 43ms/step - loss: 0.2377 - val_loss: 0.2517\n",
      "Epoch 12/100\n",
      "19/19 [==============================] - 1s 44ms/step - loss: 0.2022 - val_loss: 0.2748\n",
      "Epoch 13/100\n",
      "19/19 [==============================] - 1s 43ms/step - loss: 0.1822 - val_loss: 0.2863\n",
      "Epoch 14/100\n",
      "19/19 [==============================] - 1s 43ms/step - loss: 0.2014 - val_loss: 0.2990\n",
      "Epoch 15/100\n",
      "19/19 [==============================] - 1s 43ms/step - loss: 0.2032 - val_loss: 0.2514\n",
      "Epoch 16/100\n",
      "19/19 [==============================] - 1s 44ms/step - loss: 0.2152 - val_loss: 0.2539\n",
      "Epoch 17/100\n",
      "19/19 [==============================] - 1s 43ms/step - loss: 0.2477 - val_loss: 0.3055\n",
      "Epoch 18/100\n",
      "19/19 [==============================] - 1s 44ms/step - loss: 0.1865 - val_loss: 0.2462\n",
      "======================================================\n"
     ]
    },
    {
     "data": {
      "text/plain": [
       "{'Recall': 0.8606965174129353,\n",
       " 'Specificity': 0.935,\n",
       " 'AUC': 0.9629601990049751,\n",
       " 'F-1': 0.8940568475452197,\n",
       " 'Matthews Corrcoef': 0.797783007461263}"
      ]
     },
     "execution_count": 26,
     "metadata": {},
     "output_type": "execute_result"
    }
   ],
   "source": [
    "def rnn_model(max_len,vocab_size):\n",
    "    model = Sequential([\n",
    "      InputLayer(input_shape=(max_len,vocab_size)),\n",
    "      SimpleRNN(64, return_sequences = True),\n",
    "      Dropout(0.2),\n",
    "      SimpleRNN(32),\n",
    "      Dropout(0.5),\n",
    "      Dense(32,activation='relu'),\n",
    "      Dropout(0.2),\n",
    "      Dense(16,activation='relu'),\n",
    "      Dense(2, activation='softmax')\n",
    "    ])  \n",
    "    return model\n",
    "\n",
    "model = rnn_model(max_len, vocab_size)\n",
    "model.compile(loss='categorical_crossentropy',optimizer='adam')\n",
    "model.fit(training_sequences, training_labels, epochs=num_epochs, verbose=1, validation_split = 0.2, callbacks = [early_stop])\n",
    "\n",
    "print(\"======================================================\")\n",
    "\n",
    "evaluating(model, testing_sequences, testing_labels)  "
   ]
  },
  {
   "cell_type": "markdown",
   "metadata": {},
   "source": [
    "For input like DNA sequences, if the RNN model can take the input not only from one direction(5' to 3') but also from (3' to 5'), the RNN will perform better in most cases. Using \"Bidirectional\" function to wrap our RNN, our model will have knowledge before and after current word, not only just the word that come before it.  \n",
    "\n",
    "Also, in the following example, we replace the SimpleRNN with a more complex implementation of RNN called LSTM(Long Short Term Memory)."
   ]
  },
  {
   "cell_type": "code",
   "execution_count": 27,
   "metadata": {
    "id": "qmNCHzKs70Zw"
   },
   "outputs": [
    {
     "name": "stdout",
     "output_type": "stream",
     "text": [
      "Epoch 1/100\n",
      "19/19 [==============================] - 8s 147ms/step - loss: 0.6177 - val_loss: 0.4230\n",
      "Epoch 2/100\n",
      "19/19 [==============================] - 2s 87ms/step - loss: 0.4089 - val_loss: 0.3041\n",
      "Epoch 3/100\n",
      "19/19 [==============================] - 2s 89ms/step - loss: 0.3293 - val_loss: 0.2620\n",
      "Epoch 4/100\n",
      "19/19 [==============================] - 2s 88ms/step - loss: 0.2719 - val_loss: 0.2452\n",
      "Epoch 5/100\n",
      "19/19 [==============================] - 2s 88ms/step - loss: 0.2476 - val_loss: 0.2816\n",
      "Epoch 6/100\n",
      "19/19 [==============================] - 2s 89ms/step - loss: 0.2772 - val_loss: 0.2281\n",
      "Epoch 7/100\n",
      "19/19 [==============================] - 2s 89ms/step - loss: 0.2159 - val_loss: 0.2248\n",
      "Epoch 8/100\n",
      "19/19 [==============================] - 2s 88ms/step - loss: 0.2081 - val_loss: 0.1948\n",
      "Epoch 9/100\n",
      "19/19 [==============================] - 2s 87ms/step - loss: 0.1894 - val_loss: 0.1935\n",
      "Epoch 10/100\n",
      "19/19 [==============================] - 2s 87ms/step - loss: 0.1785 - val_loss: 0.1909\n",
      "Epoch 11/100\n",
      "19/19 [==============================] - 2s 84ms/step - loss: 0.1760 - val_loss: 0.2018\n",
      "Epoch 12/100\n",
      "19/19 [==============================] - 2s 84ms/step - loss: 0.1584 - val_loss: 0.2675\n",
      "Epoch 13/100\n",
      "19/19 [==============================] - 2s 85ms/step - loss: 0.1788 - val_loss: 0.2275\n",
      "Epoch 14/100\n",
      "19/19 [==============================] - 2s 87ms/step - loss: 0.1475 - val_loss: 0.1749\n",
      "Epoch 15/100\n",
      "19/19 [==============================] - 2s 87ms/step - loss: 0.1413 - val_loss: 0.1537\n",
      "Epoch 16/100\n",
      "19/19 [==============================] - 2s 84ms/step - loss: 0.1587 - val_loss: 0.1454\n",
      "Epoch 17/100\n",
      "19/19 [==============================] - 2s 84ms/step - loss: 0.1704 - val_loss: 0.1855\n",
      "Epoch 18/100\n",
      "19/19 [==============================] - 2s 85ms/step - loss: 0.1356 - val_loss: 0.1620\n",
      "Epoch 19/100\n",
      "19/19 [==============================] - 2s 85ms/step - loss: 0.1160 - val_loss: 0.1656\n",
      "Epoch 20/100\n",
      "19/19 [==============================] - 2s 88ms/step - loss: 0.1496 - val_loss: 0.1436\n",
      "Epoch 21/100\n",
      "19/19 [==============================] - 2s 88ms/step - loss: 0.1159 - val_loss: 0.1677\n",
      "Epoch 22/100\n",
      "19/19 [==============================] - 2s 89ms/step - loss: 0.1029 - val_loss: 0.1652\n",
      "Epoch 23/100\n",
      "19/19 [==============================] - 2s 88ms/step - loss: 0.2261 - val_loss: 0.1888\n",
      "Epoch 24/100\n",
      "19/19 [==============================] - 2s 86ms/step - loss: 0.1918 - val_loss: 0.2055\n",
      "Epoch 25/100\n",
      "19/19 [==============================] - 2s 88ms/step - loss: 0.1272 - val_loss: 0.1553\n",
      "Epoch 26/100\n",
      "19/19 [==============================] - 2s 88ms/step - loss: 0.1163 - val_loss: 0.1458\n",
      "Epoch 27/100\n",
      "19/19 [==============================] - 2s 87ms/step - loss: 0.1072 - val_loss: 0.1516\n",
      "Epoch 28/100\n",
      "19/19 [==============================] - 2s 87ms/step - loss: 0.0894 - val_loss: 0.1800\n",
      "Epoch 29/100\n",
      "19/19 [==============================] - 2s 88ms/step - loss: 0.0839 - val_loss: 0.1401\n",
      "Epoch 30/100\n",
      "19/19 [==============================] - 2s 87ms/step - loss: 0.0621 - val_loss: 0.1648\n",
      "Epoch 31/100\n",
      "19/19 [==============================] - 2s 86ms/step - loss: 0.0678 - val_loss: 0.2082\n",
      "Epoch 32/100\n",
      "19/19 [==============================] - 2s 86ms/step - loss: 0.0689 - val_loss: 0.1729\n",
      "Epoch 33/100\n",
      "19/19 [==============================] - 2s 87ms/step - loss: 0.0568 - val_loss: 0.1833\n",
      "Epoch 34/100\n",
      "19/19 [==============================] - 2s 85ms/step - loss: 0.0477 - val_loss: 0.1919\n",
      "Epoch 35/100\n",
      "19/19 [==============================] - 2s 87ms/step - loss: 0.0523 - val_loss: 0.2259\n",
      "Epoch 36/100\n",
      "19/19 [==============================] - 2s 87ms/step - loss: 0.0379 - val_loss: 0.1911\n",
      "Epoch 37/100\n",
      "19/19 [==============================] - 2s 87ms/step - loss: 0.0334 - val_loss: 0.2547\n",
      "Epoch 38/100\n",
      "19/19 [==============================] - 2s 86ms/step - loss: 0.0483 - val_loss: 0.1928\n",
      "Epoch 39/100\n",
      "19/19 [==============================] - 2s 87ms/step - loss: 0.0331 - val_loss: 0.2619\n",
      "======================================================\n"
     ]
    },
    {
     "data": {
      "text/plain": [
       "{'Recall': 0.9353233830845771,\n",
       " 'Specificity': 0.965,\n",
       " 'AUC': 0.9883582089552239,\n",
       " 'F-1': 0.9494949494949495,\n",
       " 'Matthews Corrcoef': 0.9006595127894311}"
      ]
     },
     "execution_count": 27,
     "metadata": {},
     "output_type": "execute_result"
    }
   ],
   "source": [
    "def rnn_model(max_len,vocab_size):\n",
    "    model = Sequential([\n",
    "      InputLayer(input_shape=(max_len,vocab_size)),\n",
    "      Bidirectional(LSTM(64, return_sequences = True)),\n",
    "      Dropout(0.5),\n",
    "      Bidirectional(LSTM(32)),\n",
    "      Dropout(0.2),\n",
    "      Dense(32,activation='relu'),\n",
    "      Dropout(0.2),\n",
    "      Dense(16,activation='relu'),\n",
    "      Dense(2, activation='softmax')\n",
    "    ])  \n",
    "    return model\n",
    "\n",
    "model = rnn_model(max_len, vocab_size)\n",
    "model.compile(loss='categorical_crossentropy',optimizer='adam')\n",
    "model.fit(training_sequences, training_labels, epochs=num_epochs, verbose=1, validation_split = 0.2, callbacks = [early_stop])\n",
    "\n",
    "print(\"======================================================\")\n",
    "\n",
    "evaluating(model, testing_sequences, testing_labels)  "
   ]
  },
  {
   "cell_type": "markdown",
   "metadata": {},
   "source": [
    "## Convolutional Neural Network"
   ]
  },
  {
   "cell_type": "code",
   "execution_count": 28,
   "metadata": {},
   "outputs": [
    {
     "name": "stdout",
     "output_type": "stream",
     "text": [
      "Epoch 1/100\n",
      "19/19 [==============================] - 1s 17ms/step - loss: 0.5165 - val_loss: 0.3529\n",
      "Epoch 2/100\n",
      "19/19 [==============================] - 0s 10ms/step - loss: 0.3088 - val_loss: 0.2322\n",
      "Epoch 3/100\n",
      "19/19 [==============================] - 0s 11ms/step - loss: 0.1899 - val_loss: 0.2369\n",
      "Epoch 4/100\n",
      "19/19 [==============================] - 0s 10ms/step - loss: 0.1441 - val_loss: 0.2310\n",
      "Epoch 5/100\n",
      "19/19 [==============================] - 0s 10ms/step - loss: 0.1060 - val_loss: 0.2014\n",
      "Epoch 6/100\n",
      "19/19 [==============================] - 0s 10ms/step - loss: 0.0811 - val_loss: 0.2361\n",
      "Epoch 7/100\n",
      "19/19 [==============================] - 0s 11ms/step - loss: 0.0893 - val_loss: 0.1913\n",
      "Epoch 8/100\n",
      "19/19 [==============================] - 0s 10ms/step - loss: 0.0432 - val_loss: 0.2371\n",
      "Epoch 9/100\n",
      "19/19 [==============================] - 0s 11ms/step - loss: 0.0311 - val_loss: 0.2436\n",
      "Epoch 10/100\n",
      "19/19 [==============================] - 0s 10ms/step - loss: 0.0609 - val_loss: 0.2306\n",
      "Epoch 11/100\n",
      "19/19 [==============================] - 0s 10ms/step - loss: 0.0354 - val_loss: 0.2367\n",
      "Epoch 12/100\n",
      "19/19 [==============================] - 0s 10ms/step - loss: 0.0361 - val_loss: 0.2364\n",
      "Epoch 13/100\n",
      "19/19 [==============================] - 0s 14ms/step - loss: 0.0192 - val_loss: 0.2571\n",
      "Epoch 14/100\n",
      "19/19 [==============================] - 0s 11ms/step - loss: 0.0132 - val_loss: 0.2842\n",
      "Epoch 15/100\n",
      "19/19 [==============================] - 0s 10ms/step - loss: 0.0155 - val_loss: 0.3039\n",
      "Epoch 16/100\n",
      "19/19 [==============================] - 0s 10ms/step - loss: 0.0131 - val_loss: 0.3163\n",
      "Epoch 17/100\n",
      "19/19 [==============================] - 0s 11ms/step - loss: 0.0105 - val_loss: 0.3592\n",
      "======================================================\n"
     ]
    },
    {
     "data": {
      "text/plain": [
       "{'Recall': 0.9402985074626866,\n",
       " 'Specificity': 0.975,\n",
       " 'AUC': 0.9918656716417911,\n",
       " 'F-1': 0.9569620253164558,\n",
       " 'Matthews Corrcoef': 0.9157770234632778}"
      ]
     },
     "execution_count": 28,
     "metadata": {},
     "output_type": "execute_result"
    }
   ],
   "source": [
    "def cnn_model(max_len,vocab_size):\n",
    "    model = Sequential([\n",
    "      InputLayer(input_shape=(max_len,vocab_size)),\n",
    "      Conv1D(filters=32, kernel_size=7, padding='same', activation='relu'),\n",
    "      Dropout(0.2),\n",
    "      Conv1D(filters=64, kernel_size=7, padding ='same', activation='relu'),\n",
    "      Dropout(0.2),\n",
    "      Flatten(),\n",
    "      Dense(32,activation='relu'),\n",
    "      Dropout(0.2),\n",
    "      Dense(16,activation='relu'),\n",
    "      Dense(2, activation='softmax')\n",
    "    ])  \n",
    "    return model\n",
    "\n",
    "model = cnn_model(max_len, vocab_size)\n",
    "model.compile(loss='categorical_crossentropy',optimizer='adam')\n",
    "model.fit(training_sequences, training_labels, epochs=num_epochs, verbose=1, validation_split = 0.2, callbacks = [early_stop])\n",
    "\n",
    "print(\"======================================================\")\n",
    "\n",
    "evaluating(model, testing_sequences, testing_labels)  "
   ]
  },
  {
   "cell_type": "code",
   "execution_count": 29,
   "metadata": {},
   "outputs": [
    {
     "name": "stdout",
     "output_type": "stream",
     "text": [
      "Epoch 1/100\n",
      "19/19 [==============================] - 1s 17ms/step - loss: 0.4761 - val_loss: 0.2948\n",
      "Epoch 2/100\n",
      "19/19 [==============================] - 0s 9ms/step - loss: 0.2773 - val_loss: 0.2164\n",
      "Epoch 3/100\n",
      "19/19 [==============================] - 0s 9ms/step - loss: 0.2107 - val_loss: 0.2123\n",
      "Epoch 4/100\n",
      "19/19 [==============================] - 0s 9ms/step - loss: 0.1463 - val_loss: 0.2130\n",
      "Epoch 5/100\n",
      "19/19 [==============================] - 0s 9ms/step - loss: 0.1184 - val_loss: 0.2434\n",
      "Epoch 6/100\n",
      "19/19 [==============================] - 0s 9ms/step - loss: 0.0865 - val_loss: 0.1888\n",
      "Epoch 7/100\n",
      "19/19 [==============================] - 0s 9ms/step - loss: 0.0615 - val_loss: 0.2091\n",
      "Epoch 8/100\n",
      "19/19 [==============================] - 0s 9ms/step - loss: 0.0436 - val_loss: 0.2200\n",
      "Epoch 9/100\n",
      "19/19 [==============================] - 0s 9ms/step - loss: 0.0471 - val_loss: 0.2274\n",
      "Epoch 10/100\n",
      "19/19 [==============================] - 0s 9ms/step - loss: 0.0609 - val_loss: 0.2413\n",
      "Epoch 11/100\n",
      "19/19 [==============================] - 0s 9ms/step - loss: 0.0452 - val_loss: 0.2718\n",
      "Epoch 12/100\n",
      "19/19 [==============================] - 0s 9ms/step - loss: 0.0358 - val_loss: 0.2714\n",
      "Epoch 13/100\n",
      "19/19 [==============================] - 0s 9ms/step - loss: 0.0393 - val_loss: 0.2711\n",
      "Epoch 14/100\n",
      "19/19 [==============================] - 0s 9ms/step - loss: 0.0228 - val_loss: 0.2596\n",
      "Epoch 15/100\n",
      "19/19 [==============================] - 0s 9ms/step - loss: 0.0296 - val_loss: 0.2754\n",
      "Epoch 16/100\n",
      "19/19 [==============================] - 0s 10ms/step - loss: 0.0265 - val_loss: 0.2934\n",
      "======================================================\n"
     ]
    },
    {
     "data": {
      "text/plain": [
       "{'Recall': 0.9601990049751243,\n",
       " 'Specificity': 0.95,\n",
       " 'AUC': 0.9932338308457711,\n",
       " 'F-1': 0.9554455445544553,\n",
       " 'Matthews Corrcoef': 0.9102669378785272}"
      ]
     },
     "execution_count": 29,
     "metadata": {},
     "output_type": "execute_result"
    }
   ],
   "source": [
    "def cnn_model(max_len,vocab_size):\n",
    "    model = Sequential([\n",
    "      InputLayer(input_shape=(max_len,vocab_size)),\n",
    "      Conv1D(filters=32, kernel_size=2, padding='same', activation='relu'),\n",
    "      Dropout(0.2),\n",
    "      Conv1D(filters=64, kernel_size=2, padding ='same', activation='relu'),\n",
    "      Dropout(0.2),\n",
    "      Flatten(),\n",
    "      Dense(32,activation='relu'),\n",
    "      Dropout(0.2),\n",
    "      Dense(16,activation='relu'),\n",
    "      Dense(2, activation='softmax')\n",
    "    ])  \n",
    "    return model\n",
    "\n",
    "model = cnn_model(max_len, vocab_size)\n",
    "model.compile(loss='categorical_crossentropy',optimizer='adam')\n",
    "model.fit(training_sequences, training_labels, epochs=num_epochs, verbose=1, validation_split = 0.2, callbacks = [early_stop])\n",
    "\n",
    "print(\"======================================================\")\n",
    "\n",
    "evaluating(model, testing_sequences, testing_labels)  "
   ]
  },
  {
   "cell_type": "markdown",
   "metadata": {},
   "source": [
    "## Challenge: Build a RNN to classifier ECG\n",
    "\n",
    "In the last workshop, we saw how to use autoencoder to do anormally detection in ECG. In this challenge, we are going to modify the RNN we used above to detect if a rhythm is normal or not.\n",
    "\n",
    "1. Change the input shape(use numpy array shape() function to inspect the input shape)\n",
    "2. Change the output activation function from 'softmax' to 'sigmoid'\n",
    "3. Change the loss function "
   ]
  },
  {
   "cell_type": "code",
   "execution_count": 30,
   "metadata": {
    "id": "qIkJXXJnjnpR"
   },
   "outputs": [
    {
     "data": {
      "text/html": [
       "<div>\n",
       "<style scoped>\n",
       "    .dataframe tbody tr th:only-of-type {\n",
       "        vertical-align: middle;\n",
       "    }\n",
       "\n",
       "    .dataframe tbody tr th {\n",
       "        vertical-align: top;\n",
       "    }\n",
       "\n",
       "    .dataframe thead th {\n",
       "        text-align: right;\n",
       "    }\n",
       "</style>\n",
       "<table border=\"1\" class=\"dataframe\">\n",
       "  <thead>\n",
       "    <tr style=\"text-align: right;\">\n",
       "      <th></th>\n",
       "      <th>0</th>\n",
       "      <th>1</th>\n",
       "      <th>2</th>\n",
       "      <th>3</th>\n",
       "      <th>4</th>\n",
       "      <th>5</th>\n",
       "      <th>6</th>\n",
       "      <th>7</th>\n",
       "      <th>8</th>\n",
       "      <th>9</th>\n",
       "      <th>...</th>\n",
       "      <th>131</th>\n",
       "      <th>132</th>\n",
       "      <th>133</th>\n",
       "      <th>134</th>\n",
       "      <th>135</th>\n",
       "      <th>136</th>\n",
       "      <th>137</th>\n",
       "      <th>138</th>\n",
       "      <th>139</th>\n",
       "      <th>140</th>\n",
       "    </tr>\n",
       "  </thead>\n",
       "  <tbody>\n",
       "    <tr>\n",
       "      <th>0</th>\n",
       "      <td>-0.112522</td>\n",
       "      <td>-2.827204</td>\n",
       "      <td>-3.773897</td>\n",
       "      <td>-4.349751</td>\n",
       "      <td>-4.376041</td>\n",
       "      <td>-3.474986</td>\n",
       "      <td>-2.181408</td>\n",
       "      <td>-1.818286</td>\n",
       "      <td>-1.250522</td>\n",
       "      <td>-0.477492</td>\n",
       "      <td>...</td>\n",
       "      <td>0.792168</td>\n",
       "      <td>0.933541</td>\n",
       "      <td>0.796958</td>\n",
       "      <td>0.578621</td>\n",
       "      <td>0.257740</td>\n",
       "      <td>0.228077</td>\n",
       "      <td>0.123431</td>\n",
       "      <td>0.925286</td>\n",
       "      <td>0.193137</td>\n",
       "      <td>1.0</td>\n",
       "    </tr>\n",
       "    <tr>\n",
       "      <th>1</th>\n",
       "      <td>-1.100878</td>\n",
       "      <td>-3.996840</td>\n",
       "      <td>-4.285843</td>\n",
       "      <td>-4.506579</td>\n",
       "      <td>-4.022377</td>\n",
       "      <td>-3.234368</td>\n",
       "      <td>-1.566126</td>\n",
       "      <td>-0.992258</td>\n",
       "      <td>-0.754680</td>\n",
       "      <td>0.042321</td>\n",
       "      <td>...</td>\n",
       "      <td>0.538356</td>\n",
       "      <td>0.656881</td>\n",
       "      <td>0.787490</td>\n",
       "      <td>0.724046</td>\n",
       "      <td>0.555784</td>\n",
       "      <td>0.476333</td>\n",
       "      <td>0.773820</td>\n",
       "      <td>1.119621</td>\n",
       "      <td>-1.436250</td>\n",
       "      <td>1.0</td>\n",
       "    </tr>\n",
       "    <tr>\n",
       "      <th>2</th>\n",
       "      <td>-0.567088</td>\n",
       "      <td>-2.593450</td>\n",
       "      <td>-3.874230</td>\n",
       "      <td>-4.584095</td>\n",
       "      <td>-4.187449</td>\n",
       "      <td>-3.151462</td>\n",
       "      <td>-1.742940</td>\n",
       "      <td>-1.490659</td>\n",
       "      <td>-1.183580</td>\n",
       "      <td>-0.394229</td>\n",
       "      <td>...</td>\n",
       "      <td>0.886073</td>\n",
       "      <td>0.531452</td>\n",
       "      <td>0.311377</td>\n",
       "      <td>-0.021919</td>\n",
       "      <td>-0.713683</td>\n",
       "      <td>-0.532197</td>\n",
       "      <td>0.321097</td>\n",
       "      <td>0.904227</td>\n",
       "      <td>-0.421797</td>\n",
       "      <td>1.0</td>\n",
       "    </tr>\n",
       "    <tr>\n",
       "      <th>3</th>\n",
       "      <td>0.490473</td>\n",
       "      <td>-1.914407</td>\n",
       "      <td>-3.616364</td>\n",
       "      <td>-4.318823</td>\n",
       "      <td>-4.268016</td>\n",
       "      <td>-3.881110</td>\n",
       "      <td>-2.993280</td>\n",
       "      <td>-1.671131</td>\n",
       "      <td>-1.333884</td>\n",
       "      <td>-0.965629</td>\n",
       "      <td>...</td>\n",
       "      <td>0.350816</td>\n",
       "      <td>0.499111</td>\n",
       "      <td>0.600345</td>\n",
       "      <td>0.842069</td>\n",
       "      <td>0.952074</td>\n",
       "      <td>0.990133</td>\n",
       "      <td>1.086798</td>\n",
       "      <td>1.403011</td>\n",
       "      <td>-0.383564</td>\n",
       "      <td>1.0</td>\n",
       "    </tr>\n",
       "    <tr>\n",
       "      <th>4</th>\n",
       "      <td>0.800232</td>\n",
       "      <td>-0.874252</td>\n",
       "      <td>-2.384761</td>\n",
       "      <td>-3.973292</td>\n",
       "      <td>-4.338224</td>\n",
       "      <td>-3.802422</td>\n",
       "      <td>-2.534510</td>\n",
       "      <td>-1.783423</td>\n",
       "      <td>-1.594450</td>\n",
       "      <td>-0.753199</td>\n",
       "      <td>...</td>\n",
       "      <td>1.148884</td>\n",
       "      <td>0.958434</td>\n",
       "      <td>1.059025</td>\n",
       "      <td>1.371682</td>\n",
       "      <td>1.277392</td>\n",
       "      <td>0.960304</td>\n",
       "      <td>0.971020</td>\n",
       "      <td>1.614392</td>\n",
       "      <td>1.421456</td>\n",
       "      <td>1.0</td>\n",
       "    </tr>\n",
       "  </tbody>\n",
       "</table>\n",
       "<p>5 rows × 141 columns</p>\n",
       "</div>"
      ],
      "text/plain": [
       "        0         1         2         3         4         5         6    \\\n",
       "0 -0.112522 -2.827204 -3.773897 -4.349751 -4.376041 -3.474986 -2.181408   \n",
       "1 -1.100878 -3.996840 -4.285843 -4.506579 -4.022377 -3.234368 -1.566126   \n",
       "2 -0.567088 -2.593450 -3.874230 -4.584095 -4.187449 -3.151462 -1.742940   \n",
       "3  0.490473 -1.914407 -3.616364 -4.318823 -4.268016 -3.881110 -2.993280   \n",
       "4  0.800232 -0.874252 -2.384761 -3.973292 -4.338224 -3.802422 -2.534510   \n",
       "\n",
       "        7         8         9    ...       131       132       133       134  \\\n",
       "0 -1.818286 -1.250522 -0.477492  ...  0.792168  0.933541  0.796958  0.578621   \n",
       "1 -0.992258 -0.754680  0.042321  ...  0.538356  0.656881  0.787490  0.724046   \n",
       "2 -1.490659 -1.183580 -0.394229  ...  0.886073  0.531452  0.311377 -0.021919   \n",
       "3 -1.671131 -1.333884 -0.965629  ...  0.350816  0.499111  0.600345  0.842069   \n",
       "4 -1.783423 -1.594450 -0.753199  ...  1.148884  0.958434  1.059025  1.371682   \n",
       "\n",
       "        135       136       137       138       139  140  \n",
       "0  0.257740  0.228077  0.123431  0.925286  0.193137  1.0  \n",
       "1  0.555784  0.476333  0.773820  1.119621 -1.436250  1.0  \n",
       "2 -0.713683 -0.532197  0.321097  0.904227 -0.421797  1.0  \n",
       "3  0.952074  0.990133  1.086798  1.403011 -0.383564  1.0  \n",
       "4  1.277392  0.960304  0.971020  1.614392  1.421456  1.0  \n",
       "\n",
       "[5 rows x 141 columns]"
      ]
     },
     "execution_count": 30,
     "metadata": {},
     "output_type": "execute_result"
    }
   ],
   "source": [
    "dataframe = pd.read_csv('../Workshop3_Dimensionality_Reduction_on_CITE_Seq/ecg.csv', header=None)\n",
    "raw_data = dataframe.values\n",
    "dataframe.head()"
   ]
  },
  {
   "cell_type": "code",
   "execution_count": 31,
   "metadata": {},
   "outputs": [],
   "source": [
    "# The last element contains the labels\n",
    "labels = raw_data[:, -1]\n",
    "\n",
    "# The other data points are the electrocadriogram data\n",
    "data = raw_data[:, 0:-1]\n",
    "\n",
    "train_data, test_data, train_labels, test_labels = train_test_split(\n",
    "    data, labels, test_size=0.2, random_state=21\n",
    ")\n",
    "\n",
    "min_val = tf.reduce_min(train_data)\n",
    "max_val = tf.reduce_max(train_data)\n",
    "\n",
    "train_data = (train_data - min_val) / (max_val - min_val)\n",
    "test_data = (test_data - min_val) / (max_val - min_val)\n",
    "\n",
    "train_data = tf.cast(train_data, tf.float32)\n",
    "test_data = tf.cast(test_data, tf.float32)"
   ]
  },
  {
   "cell_type": "code",
   "execution_count": 32,
   "metadata": {},
   "outputs": [
    {
     "data": {
      "text/plain": [
       "TensorShape([3998, 140])"
      ]
     },
     "execution_count": 32,
     "metadata": {},
     "output_type": "execute_result"
    }
   ],
   "source": [
    "train_data.shape"
   ]
  },
  {
   "cell_type": "code",
   "execution_count": 33,
   "metadata": {},
   "outputs": [
    {
     "name": "stdout",
     "output_type": "stream",
     "text": [
      "Model: \"sequential_6\"\n",
      "_________________________________________________________________\n",
      " Layer (type)                Output Shape              Param #   \n",
      "=================================================================\n",
      " bidirectional_2 (Bidirectio  (None, 80, 128)          41472     \n",
      " nal)                                                            \n",
      "                                                                 \n",
      " dropout_14 (Dropout)        (None, 80, 128)           0         \n",
      "                                                                 \n",
      " bidirectional_3 (Bidirectio  (None, 64)               41216     \n",
      " nal)                                                            \n",
      "                                                                 \n",
      " dropout_15 (Dropout)        (None, 64)                0         \n",
      "                                                                 \n",
      " dense_18 (Dense)            (None, 32)                2080      \n",
      "                                                                 \n",
      " dropout_16 (Dropout)        (None, 32)                0         \n",
      "                                                                 \n",
      " dense_19 (Dense)            (None, 16)                528       \n",
      "                                                                 \n",
      " dense_20 (Dense)            (None, 1)                 17        \n",
      "                                                                 \n",
      "=================================================================\n",
      "Total params: 85,313\n",
      "Trainable params: 85,313\n",
      "Non-trainable params: 0\n",
      "_________________________________________________________________\n"
     ]
    }
   ],
   "source": [
    "ecg_model = Sequential([\n",
    "      InputLayer(input_shape=(80,16)),\n",
    "      Bidirectional(LSTM(64, return_sequences = True)),\n",
    "      Dropout(0.2),\n",
    "      Bidirectional(LSTM(32)),\n",
    "      Dropout(0.2),\n",
    "      Dense(32,activation='relu'),\n",
    "      Dropout(0.2),\n",
    "      Dense(16,activation='relu'),\n",
    "      Dense(1, activation='softmax')\n",
    "    ])  \n",
    "ecg_model.compile(loss='category_crossentropy',optimizer='adam',metrics=['accuracy'])\n",
    "ecg_model.summary()\n",
    "# ecg_model.fit(train_data, train_labels, epochs=num_epochs, verbose=1, validation_split = 0.2, callbacks = [early_stop])"
   ]
  },
  {
   "cell_type": "code",
   "execution_count": 34,
   "metadata": {},
   "outputs": [],
   "source": [
    "def print_stats(predictions, labels):\n",
    "  print(\"Accuracy = {}\".format(accuracy_score(labels, predictions)))\n",
    "  print(\"Precision = {}\".format(precision_score(labels, predictions)))\n",
    "  print(\"Recall = {}\".format(recall_score(labels, predictions)))"
   ]
  },
  {
   "cell_type": "code",
   "execution_count": 35,
   "metadata": {},
   "outputs": [
    {
     "ename": "ValueError",
     "evalue": "in user code:\n\n    File \"/g/data/ik06/stark/anaconda3/envs/deep_tf/lib/python3.8/site-packages/keras/engine/training.py\", line 1801, in predict_function  *\n        return step_function(self, iterator)\n    File \"/g/data/ik06/stark/anaconda3/envs/deep_tf/lib/python3.8/site-packages/keras/engine/training.py\", line 1790, in step_function  **\n        outputs = model.distribute_strategy.run(run_step, args=(data,))\n    File \"/g/data/ik06/stark/anaconda3/envs/deep_tf/lib/python3.8/site-packages/keras/engine/training.py\", line 1783, in run_step  **\n        outputs = model.predict_step(data)\n    File \"/g/data/ik06/stark/anaconda3/envs/deep_tf/lib/python3.8/site-packages/keras/engine/training.py\", line 1751, in predict_step\n        return self(x, training=False)\n    File \"/g/data/ik06/stark/anaconda3/envs/deep_tf/lib/python3.8/site-packages/keras/utils/traceback_utils.py\", line 67, in error_handler\n        raise e.with_traceback(filtered_tb) from None\n    File \"/g/data/ik06/stark/anaconda3/envs/deep_tf/lib/python3.8/site-packages/keras/engine/input_spec.py\", line 264, in assert_input_compatibility\n        raise ValueError(f'Input {input_index} of layer \"{layer_name}\" is '\n\n    ValueError: Input 0 of layer \"sequential_6\" is incompatible with the layer: expected shape=(None, 80, 16), found shape=(None, 140)\n",
     "output_type": "error",
     "traceback": [
      "\u001b[0;31m---------------------------------------------------------------------------\u001b[0m",
      "\u001b[0;31mValueError\u001b[0m                                Traceback (most recent call last)",
      "Input \u001b[0;32mIn [35]\u001b[0m, in \u001b[0;36m<cell line: 1>\u001b[0;34m()\u001b[0m\n\u001b[0;32m----> 1\u001b[0m pred \u001b[38;5;241m=\u001b[39m \u001b[43mecg_model\u001b[49m\u001b[38;5;241;43m.\u001b[39;49m\u001b[43mpredict\u001b[49m\u001b[43m(\u001b[49m\u001b[43mtest_data\u001b[49m\u001b[43m)\u001b[49m\n\u001b[1;32m      2\u001b[0m print_stats(np\u001b[38;5;241m.\u001b[39mround(pred[:,\u001b[38;5;241m0\u001b[39m]), test_labels)\n",
      "File \u001b[0;32m/g/data/ik06/stark/anaconda3/envs/deep_tf/lib/python3.8/site-packages/keras/utils/traceback_utils.py:67\u001b[0m, in \u001b[0;36mfilter_traceback.<locals>.error_handler\u001b[0;34m(*args, **kwargs)\u001b[0m\n\u001b[1;32m     65\u001b[0m \u001b[38;5;28;01mexcept\u001b[39;00m \u001b[38;5;167;01mException\u001b[39;00m \u001b[38;5;28;01mas\u001b[39;00m e:  \u001b[38;5;66;03m# pylint: disable=broad-except\u001b[39;00m\n\u001b[1;32m     66\u001b[0m   filtered_tb \u001b[38;5;241m=\u001b[39m _process_traceback_frames(e\u001b[38;5;241m.\u001b[39m__traceback__)\n\u001b[0;32m---> 67\u001b[0m   \u001b[38;5;28;01mraise\u001b[39;00m e\u001b[38;5;241m.\u001b[39mwith_traceback(filtered_tb) \u001b[38;5;28;01mfrom\u001b[39;00m \u001b[38;5;28mNone\u001b[39m\n\u001b[1;32m     68\u001b[0m \u001b[38;5;28;01mfinally\u001b[39;00m:\n\u001b[1;32m     69\u001b[0m   \u001b[38;5;28;01mdel\u001b[39;00m filtered_tb\n",
      "File \u001b[0;32m/g/data/ik06/stark/anaconda3/envs/deep_tf/lib/python3.8/site-packages/tensorflow/python/framework/func_graph.py:1147\u001b[0m, in \u001b[0;36mfunc_graph_from_py_func.<locals>.autograph_handler\u001b[0;34m(*args, **kwargs)\u001b[0m\n\u001b[1;32m   1145\u001b[0m \u001b[38;5;28;01mexcept\u001b[39;00m \u001b[38;5;167;01mException\u001b[39;00m \u001b[38;5;28;01mas\u001b[39;00m e:  \u001b[38;5;66;03m# pylint:disable=broad-except\u001b[39;00m\n\u001b[1;32m   1146\u001b[0m   \u001b[38;5;28;01mif\u001b[39;00m \u001b[38;5;28mhasattr\u001b[39m(e, \u001b[38;5;124m\"\u001b[39m\u001b[38;5;124mag_error_metadata\u001b[39m\u001b[38;5;124m\"\u001b[39m):\n\u001b[0;32m-> 1147\u001b[0m     \u001b[38;5;28;01mraise\u001b[39;00m e\u001b[38;5;241m.\u001b[39mag_error_metadata\u001b[38;5;241m.\u001b[39mto_exception(e)\n\u001b[1;32m   1148\u001b[0m   \u001b[38;5;28;01melse\u001b[39;00m:\n\u001b[1;32m   1149\u001b[0m     \u001b[38;5;28;01mraise\u001b[39;00m\n",
      "\u001b[0;31mValueError\u001b[0m: in user code:\n\n    File \"/g/data/ik06/stark/anaconda3/envs/deep_tf/lib/python3.8/site-packages/keras/engine/training.py\", line 1801, in predict_function  *\n        return step_function(self, iterator)\n    File \"/g/data/ik06/stark/anaconda3/envs/deep_tf/lib/python3.8/site-packages/keras/engine/training.py\", line 1790, in step_function  **\n        outputs = model.distribute_strategy.run(run_step, args=(data,))\n    File \"/g/data/ik06/stark/anaconda3/envs/deep_tf/lib/python3.8/site-packages/keras/engine/training.py\", line 1783, in run_step  **\n        outputs = model.predict_step(data)\n    File \"/g/data/ik06/stark/anaconda3/envs/deep_tf/lib/python3.8/site-packages/keras/engine/training.py\", line 1751, in predict_step\n        return self(x, training=False)\n    File \"/g/data/ik06/stark/anaconda3/envs/deep_tf/lib/python3.8/site-packages/keras/utils/traceback_utils.py\", line 67, in error_handler\n        raise e.with_traceback(filtered_tb) from None\n    File \"/g/data/ik06/stark/anaconda3/envs/deep_tf/lib/python3.8/site-packages/keras/engine/input_spec.py\", line 264, in assert_input_compatibility\n        raise ValueError(f'Input {input_index} of layer \"{layer_name}\" is '\n\n    ValueError: Input 0 of layer \"sequential_6\" is incompatible with the layer: expected shape=(None, 80, 16), found shape=(None, 140)\n"
     ]
    }
   ],
   "source": [
    "pred = ecg_model.predict(test_data)\n",
    "print_stats(np.round(pred[:,0]), test_labels)"
   ]
  },
  {
   "cell_type": "markdown",
   "metadata": {
    "tags": []
   },
   "source": [
    "benchmark result:\n",
    "Accuracy = 0.99\n",
    "Precision = 0.9875886524822695\n",
    "Recall = 0.9946428571428572"
   ]
  },
  {
   "cell_type": "markdown",
   "metadata": {},
   "source": [
    "## Summary:\n",
    "\n",
    "1. manually extracted features from data \n",
    "2. used manually extracted features to train a SVM\n",
    "3. build a 2-layer dense NN and use dropout to regularize our model\n",
    "4. build a 2-layer recurrent NN and improve the performance by bidirectional LSTM\n",
    "5. build a 2-layer convolutional NN to reduce the training speed"
   ]
  },
  {
   "cell_type": "code",
   "execution_count": null,
   "metadata": {},
   "outputs": [],
   "source": []
  }
 ],
 "metadata": {
  "accelerator": "GPU",
  "colab": {
   "collapsed_sections": [],
   "name": "RNN-Mirtron-Canonical-miRNA.ipynb",
   "provenance": []
  },
  "gpuClass": "standard",
  "kernelspec": {
   "display_name": "Python 3 (ipykernel)",
   "language": "python",
   "name": "python3"
  },
  "language_info": {
   "codemirror_mode": {
    "name": "ipython",
    "version": 3
   },
   "file_extension": ".py",
   "mimetype": "text/x-python",
   "name": "python",
   "nbconvert_exporter": "python",
   "pygments_lexer": "ipython3",
   "version": "3.8.8"
  },
  "toc-showtags": false
 },
 "nbformat": 4,
 "nbformat_minor": 4
}
